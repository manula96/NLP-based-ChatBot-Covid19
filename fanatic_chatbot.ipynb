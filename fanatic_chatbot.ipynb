{
  "nbformat": 4,
  "nbformat_minor": 0,
  "metadata": {
    "colab": {
      "name": "fanatic_chatbot.ipynb",
      "provenance": [],
      "collapsed_sections": [],
      "authorship_tag": "ABX9TyOwM+HLuoKXLmSaOTs9l8Oc",
      "include_colab_link": true
    },
    "kernelspec": {
      "name": "python3",
      "display_name": "Python 3"
    }
  },
  "cells": [
    {
      "cell_type": "markdown",
      "metadata": {
        "id": "view-in-github",
        "colab_type": "text"
      },
      "source": [
        "<a href=\"https://colab.research.google.com/github/manula96/NLP-based-ChatBot-Covid19/blob/master/fanatic_chatbot.ipynb\" target=\"_parent\"><img src=\"https://colab.research.google.com/assets/colab-badge.svg\" alt=\"Open In Colab\"/></a>"
      ]
    },
    {
      "cell_type": "code",
      "metadata": {
        "id": "2Tuv9K605ZPF",
        "colab_type": "code",
        "outputId": "3fe7ac9e-19cd-4eea-be2e-66b128319c00",
        "colab": {
          "base_uri": "https://localhost:8080/",
          "height": 53
        }
      },
      "source": [
        "#install nltk package\n",
        "pip install nltk"
      ],
      "execution_count": 0,
      "outputs": [
        {
          "output_type": "stream",
          "text": [
            "Requirement already satisfied: nltk in /usr/local/lib/python3.6/dist-packages (3.2.5)\n",
            "Requirement already satisfied: six in /usr/local/lib/python3.6/dist-packages (from nltk) (1.12.0)\n"
          ],
          "name": "stdout"
        }
      ]
    },
    {
      "cell_type": "code",
      "metadata": {
        "id": "tvTS4ta-52wZ",
        "colab_type": "code",
        "outputId": "b2b21bd0-1437-472f-fb10-5bcc5e7fe38a",
        "colab": {
          "base_uri": "https://localhost:8080/",
          "height": 399
        }
      },
      "source": [
        "#install newspaper3k package \n",
        "pip install newspaper3k"
      ],
      "execution_count": 0,
      "outputs": [
        {
          "output_type": "stream",
          "text": [
            "Requirement already satisfied: newspaper3k in /usr/local/lib/python3.6/dist-packages (0.2.8)\n",
            "Requirement already satisfied: PyYAML>=3.11 in /usr/local/lib/python3.6/dist-packages (from newspaper3k) (3.13)\n",
            "Requirement already satisfied: lxml>=3.6.0 in /usr/local/lib/python3.6/dist-packages (from newspaper3k) (4.2.6)\n",
            "Requirement already satisfied: feedparser>=5.2.1 in /usr/local/lib/python3.6/dist-packages (from newspaper3k) (5.2.1)\n",
            "Requirement already satisfied: requests>=2.10.0 in /usr/local/lib/python3.6/dist-packages (from newspaper3k) (2.23.0)\n",
            "Requirement already satisfied: jieba3k>=0.35.1 in /usr/local/lib/python3.6/dist-packages (from newspaper3k) (0.35.1)\n",
            "Requirement already satisfied: beautifulsoup4>=4.4.1 in /usr/local/lib/python3.6/dist-packages (from newspaper3k) (4.6.3)\n",
            "Requirement already satisfied: python-dateutil>=2.5.3 in /usr/local/lib/python3.6/dist-packages (from newspaper3k) (2.8.1)\n",
            "Requirement already satisfied: feedfinder2>=0.0.4 in /usr/local/lib/python3.6/dist-packages (from newspaper3k) (0.0.4)\n",
            "Requirement already satisfied: tldextract>=2.0.1 in /usr/local/lib/python3.6/dist-packages (from newspaper3k) (2.2.2)\n",
            "Requirement already satisfied: nltk>=3.2.1 in /usr/local/lib/python3.6/dist-packages (from newspaper3k) (3.2.5)\n",
            "Requirement already satisfied: Pillow>=3.3.0 in /usr/local/lib/python3.6/dist-packages (from newspaper3k) (7.0.0)\n",
            "Requirement already satisfied: tinysegmenter==0.3 in /usr/local/lib/python3.6/dist-packages (from newspaper3k) (0.3)\n",
            "Requirement already satisfied: cssselect>=0.9.2 in /usr/local/lib/python3.6/dist-packages (from newspaper3k) (1.1.0)\n",
            "Requirement already satisfied: urllib3!=1.25.0,!=1.25.1,<1.26,>=1.21.1 in /usr/local/lib/python3.6/dist-packages (from requests>=2.10.0->newspaper3k) (1.24.3)\n",
            "Requirement already satisfied: idna<3,>=2.5 in /usr/local/lib/python3.6/dist-packages (from requests>=2.10.0->newspaper3k) (2.9)\n",
            "Requirement already satisfied: certifi>=2017.4.17 in /usr/local/lib/python3.6/dist-packages (from requests>=2.10.0->newspaper3k) (2020.4.5.1)\n",
            "Requirement already satisfied: chardet<4,>=3.0.2 in /usr/local/lib/python3.6/dist-packages (from requests>=2.10.0->newspaper3k) (3.0.4)\n",
            "Requirement already satisfied: six>=1.5 in /usr/local/lib/python3.6/dist-packages (from python-dateutil>=2.5.3->newspaper3k) (1.12.0)\n",
            "Requirement already satisfied: requests-file>=1.4 in /usr/local/lib/python3.6/dist-packages (from tldextract>=2.0.1->newspaper3k) (1.5.1)\n",
            "Requirement already satisfied: setuptools in /usr/local/lib/python3.6/dist-packages (from tldextract>=2.0.1->newspaper3k) (46.1.3)\n"
          ],
          "name": "stdout"
        }
      ]
    },
    {
      "cell_type": "code",
      "metadata": {
        "id": "VNlxOlmM6F3E",
        "colab_type": "code",
        "colab": {}
      },
      "source": [
        "#import libraries\n",
        "from newspaper import Article\n",
        "import random\n",
        "import string \n",
        "from sklearn.metrics.pairwise import cosine_similarity\n",
        "from sklearn.feature_extraction.text import TfidfVectorizer \n",
        "import nltk\n",
        "import numpy as np\n",
        "import warnings"
      ],
      "execution_count": 0,
      "outputs": []
    },
    {
      "cell_type": "code",
      "metadata": {
        "id": "vmDTTzH_6iKS",
        "colab_type": "code",
        "colab": {}
      },
      "source": [
        "#Ignore any warnings\n",
        "warnings.filterwarnings('ignore')"
      ],
      "execution_count": 0,
      "outputs": []
    },
    {
      "cell_type": "code",
      "metadata": {
        "id": "HeNxbV_s69j4",
        "colab_type": "code",
        "outputId": "ca0887ec-5e24-4129-cb02-81d4387365e7",
        "colab": {
          "base_uri": "https://localhost:8080/",
          "height": 35
        }
      },
      "source": [
        "#Download the packages from NLTK\n",
        "nltk.download('punkt',quiet=True)\n",
        "nltk.download('wordnet',quiet=True)"
      ],
      "execution_count": 0,
      "outputs": [
        {
          "output_type": "execute_result",
          "data": {
            "text/plain": [
              "True"
            ]
          },
          "metadata": {
            "tags": []
          },
          "execution_count": 61
        }
      ]
    },
    {
      "cell_type": "code",
      "metadata": {
        "id": "Z1Ryecnm7QLs",
        "colab_type": "code",
        "outputId": "249c82a7-f63d-4c1c-c64c-fe9a5977bc0d",
        "colab": {
          "base_uri": "https://localhost:8080/",
          "height": 1000
        }
      },
      "source": [
        "#Get the article URL\n",
        "#article = Article('https://www.cnet.com/how-to/coronavirus-explained-symptoms-lockdowns-and-all-your-covid-19-questions-answered/')\n",
        "article = Article('https://www.mayoclinic.org/diseases-conditions/coronavirus/symptoms-causes/syc-20479963')\n",
        "article.download()\n",
        "article.parse()\n",
        "article.nlp()\n",
        "corpus = article.text\n",
        "\n",
        "#Print to validate\n",
        "print(corpus)\n"
      ],
      "execution_count": 0,
      "outputs": [
        {
          "output_type": "stream",
          "text": [
            "Overview\n",
            "\n",
            "Coronavirus Open pop-up dialog box Close Coronavirus Coronavirus Coronavirus is a family of viruses that can cause respiratory illnesses such as the common cold, severe acute respiratory syndrome (SARS) and Middle East respiratory syndrome (MERS).\n",
            "\n",
            "Coronaviruses are a family of viruses that can cause illnesses such as the common cold, severe acute respiratory syndrome (SARS) and Middle East respiratory syndrome (MERS). In 2019, a new coronavirus was identified as the cause of a disease outbreak that originated in China.\n",
            "\n",
            "The virus is now known as the severe acute respiratory syndrome coronavirus 2 (SARS-CoV-2). The disease it causes is called coronavirus disease 2019 (COVID-19). In March 2020, the World Health Organization (WHO) declared the COVID-19 outbreak a pandemic.\n",
            "\n",
            "Public health groups, including the U.S. Centers for Disease Control and Prevention (CDC) and WHO , are monitoring the pandemic and posting updates on their websites. These groups have also issued recommendations for preventing and treating the illness.\n",
            "\n",
            "Symptoms\n",
            "\n",
            "Signs and symptoms of coronavirus disease 2019 (COVID-19) may appear two to 14 days after exposure. This time after exposure and before having symptoms is called the incubation period. Common signs and symptoms can include:\n",
            "\n",
            "Fever\n",
            "\n",
            "Cough\n",
            "\n",
            "Shortness of breath or difficulty breathing\n",
            "\n",
            "Other symptoms can include:\n",
            "\n",
            "Tiredness\n",
            "\n",
            "Aches\n",
            "\n",
            "Chills\n",
            "\n",
            "Sore throat\n",
            "\n",
            "Loss of smell\n",
            "\n",
            "Loss of taste\n",
            "\n",
            "Headache\n",
            "\n",
            "Diarrhea\n",
            "\n",
            "Severe vomiting\n",
            "\n",
            "The severity of COVID-19 symptoms can range from very mild to severe. Some people may have only a few symptoms, and some people may have no symptoms at all. People who are older or who have existing chronic medical conditions, such as heart disease, lung disease, diabetes, severe obesity, chronic kidney or liver disease, or who have compromised immune systems may be at higher risk of serious illness. This is similar to what is seen with other respiratory illnesses, such as influenza.\n",
            "\n",
            "Some people may experience worsened symptoms, such as worsened shortness of breath and pneumonia, about a week after symptoms start.\n",
            "\n",
            "COVID-19 Self-Assessment Tool\n",
            "\n",
            "Assess your symptoms and find out if you're a candidate for a coronavirus disease 2019 (COVID-19) test.\n",
            "\n",
            "When to see a doctor\n",
            "\n",
            "If you have COVID-19 symptoms or you've been in contact with someone diagnosed with COVID-19 , contact your doctor or clinic right away for medical advice. Tell your health care team about your symptoms and possible exposure before you go to your appointment.\n",
            "\n",
            "If you have emergency COVID-19 signs and symptoms, seek care immediately. Emergency signs and symptoms can include:\n",
            "\n",
            "Trouble breathing\n",
            "\n",
            "Persistent chest pain or pressure\n",
            "\n",
            "New confusion\n",
            "\n",
            "Blue lips or face\n",
            "\n",
            "If you have signs or symptoms of COVID-19 , contact your doctor or clinic for guidance. Let your doctor know if you have other chronic medical conditions, such as heart disease or lung disease. During the pandemic, it's important to make sure health care is available for those in greatest need.\n",
            "\n",
            "Causes\n",
            "\n",
            "Infection with the new coronavirus (severe acute respiratory syndrome coronavirus 2, or SARS-CoV-2) causes coronavirus disease 2019 ( COVID-19 ).\n",
            "\n",
            "The virus appears to spread easily among people, and more continues to be discovered over time about how it spreads. Data has shown that it spreads from person to person among those in close contact (within about 6 feet, or 2 meters). The virus spreads by respiratory droplets released when someone with the virus coughs, sneezes or talks. These droplets can be inhaled or land in the mouth or nose of a person nearby.\n",
            "\n",
            "It can also spread if a person touches a surface with the virus on it and then touches his or her mouth, nose or eyes.\n",
            "\n",
            "Risk factors\n",
            "\n",
            "Risk factors for COVID-19 appear to include:\n",
            "\n",
            "Recent travel from or residence in an area with ongoing community spread of COVID-19 as determined by CDC or WHO\n",
            "\n",
            "as determined by or Close contact with someone who has COVID-19 , , such as being within 6 feet, or 2 meters, or being coughed on — which can occur when a family member or health care worker takes care of an infected person\n",
            "\n",
            "Complications\n",
            "\n",
            "Although most people with COVID-19 have mild to moderate symptoms, the disease can cause severe medical complications and lead to death in some people. Older adults or people with existing chronic medical conditions are at greater risk of becoming seriously ill with COVID-19 .\n",
            "\n",
            "Complications can include:\n",
            "\n",
            "Pneumonia in both lungs\n",
            "\n",
            "Organ failure in several organs\n",
            "\n",
            "Respiratory failure\n",
            "\n",
            "Heart problems, such as heart rhythm problems and a disease of the heart muscle that makes it hard for your heart to pump blood to the body (cardiomyopathy)\n",
            "\n",
            "Acute kidney injury\n",
            "\n",
            "Additional viral and bacterial infections\n",
            "\n",
            "Prevention\n",
            "\n",
            "Although there is no vaccine available to prevent COVID-19 , you can take steps to reduce your risk of infection. WHO and CDC recommend following these precautions for avoiding COVID-19 :\n",
            "\n",
            "Avoid large events and mass gatherings.\n",
            "\n",
            "Avoid close contact (within about 6 feet, or 2 meters) with anyone who is sick or has symptoms.\n",
            "\n",
            "Stay home as much as possible and keep distance between yourself and others (within about 6 feet, or 2 meters) if COVID-19 is spreading in your community, especially if you have a higher risk of serious illness. Keep in mind some people may have COVID-19 and spread it to others, even if they don't have symptoms or don't know they have COVID-19 .\n",
            "\n",
            "is spreading in your community, especially if you have a higher risk of serious illness. Keep in mind some people may have and spread it to others, even if they don't have symptoms or don't know they have . Wash your hands often with soap and water for at least 20 seconds, or use an alcohol-based hand sanitizer that contains at least 60% alcohol.\n",
            "\n",
            "Cover your face with a cloth face covering in public spaces, such as the grocery store, where it's difficult to avoid close contact with others, especially if you're in an area with ongoing community spread. Only use nonmedical cloth masks — surgical masks and N95 respirators should be reserved for health care providers.\n",
            "\n",
            "Cover your mouth and nose with your elbow or a tissue when you cough or sneeze. Throw away the used tissue.\n",
            "\n",
            "Avoid touching your eyes, nose and mouth.\n",
            "\n",
            "Avoid sharing dishes, glasses, bedding and other household items if you're sick.\n",
            "\n",
            "Clean and disinfect high-touch surfaces daily.\n",
            "\n",
            "Stay home from work, school and public areas if you're sick, unless you're going to get medical care. Avoid taking public transportation if you're sick.\n",
            "\n",
            "If you have a chronic medical condition and may have a higher risk of serious illness, check with your doctor about other ways to protect yourself.\n",
            "\n",
            "Travel\n"
          ],
          "name": "stdout"
        }
      ]
    },
    {
      "cell_type": "code",
      "metadata": {
        "id": "lNRTZkdB8zII",
        "colab_type": "code",
        "outputId": "ea8218aa-0951-4e26-f795-5524885dff40",
        "colab": {
          "base_uri": "https://localhost:8080/",
          "height": 55
        }
      },
      "source": [
        "#tokenization\n",
        "text = corpus\n",
        "sent_tokens = nltk.sent_tokenize(text) #to sentences\n",
        "\n",
        "#print sentences\n",
        "print(sent_tokens)"
      ],
      "execution_count": 0,
      "outputs": [
        {
          "output_type": "stream",
          "text": [
            "['Overview\\n\\nCoronavirus Open pop-up dialog box Close Coronavirus Coronavirus Coronavirus is a family of viruses that can cause respiratory illnesses such as the common cold, severe acute respiratory syndrome (SARS) and Middle East respiratory syndrome (MERS).', 'Coronaviruses are a family of viruses that can cause illnesses such as the common cold, severe acute respiratory syndrome (SARS) and Middle East respiratory syndrome (MERS).', 'In 2019, a new coronavirus was identified as the cause of a disease outbreak that originated in China.', 'The virus is now known as the severe acute respiratory syndrome coronavirus 2 (SARS-CoV-2).', 'The disease it causes is called coronavirus disease 2019 (COVID-19).', 'In March 2020, the World Health Organization (WHO) declared the COVID-19 outbreak a pandemic.', 'Public health groups, including the U.S. Centers for Disease Control and Prevention (CDC) and WHO , are monitoring the pandemic and posting updates on their websites.', 'These groups have also issued recommendations for preventing and treating the illness.', 'Symptoms\\n\\nSigns and symptoms of coronavirus disease 2019 (COVID-19) may appear two to 14 days after exposure.', 'This time after exposure and before having symptoms is called the incubation period.', 'Common signs and symptoms can include:\\n\\nFever\\n\\nCough\\n\\nShortness of breath or difficulty breathing\\n\\nOther symptoms can include:\\n\\nTiredness\\n\\nAches\\n\\nChills\\n\\nSore throat\\n\\nLoss of smell\\n\\nLoss of taste\\n\\nHeadache\\n\\nDiarrhea\\n\\nSevere vomiting\\n\\nThe severity of COVID-19 symptoms can range from very mild to severe.', 'Some people may have only a few symptoms, and some people may have no symptoms at all.', 'People who are older or who have existing chronic medical conditions, such as heart disease, lung disease, diabetes, severe obesity, chronic kidney or liver disease, or who have compromised immune systems may be at higher risk of serious illness.', 'This is similar to what is seen with other respiratory illnesses, such as influenza.', 'Some people may experience worsened symptoms, such as worsened shortness of breath and pneumonia, about a week after symptoms start.', \"COVID-19 Self-Assessment Tool\\n\\nAssess your symptoms and find out if you're a candidate for a coronavirus disease 2019 (COVID-19) test.\", \"When to see a doctor\\n\\nIf you have COVID-19 symptoms or you've been in contact with someone diagnosed with COVID-19 , contact your doctor or clinic right away for medical advice.\", 'Tell your health care team about your symptoms and possible exposure before you go to your appointment.', 'If you have emergency COVID-19 signs and symptoms, seek care immediately.', 'Emergency signs and symptoms can include:\\n\\nTrouble breathing\\n\\nPersistent chest pain or pressure\\n\\nNew confusion\\n\\nBlue lips or face\\n\\nIf you have signs or symptoms of COVID-19 , contact your doctor or clinic for guidance.', 'Let your doctor know if you have other chronic medical conditions, such as heart disease or lung disease.', \"During the pandemic, it's important to make sure health care is available for those in greatest need.\", 'Causes\\n\\nInfection with the new coronavirus (severe acute respiratory syndrome coronavirus 2, or SARS-CoV-2) causes coronavirus disease 2019 ( COVID-19 ).', 'The virus appears to spread easily among people, and more continues to be discovered over time about how it spreads.', 'Data has shown that it spreads from person to person among those in close contact (within about 6 feet, or 2 meters).', 'The virus spreads by respiratory droplets released when someone with the virus coughs, sneezes or talks.', 'These droplets can be inhaled or land in the mouth or nose of a person nearby.', 'It can also spread if a person touches a surface with the virus on it and then touches his or her mouth, nose or eyes.', 'Risk factors\\n\\nRisk factors for COVID-19 appear to include:\\n\\nRecent travel from or residence in an area with ongoing community spread of COVID-19 as determined by CDC or WHO\\n\\nas determined by or Close contact with someone who has COVID-19 , , such as being within 6 feet, or 2 meters, or being coughed on — which can occur when a family member or health care worker takes care of an infected person\\n\\nComplications\\n\\nAlthough most people with COVID-19 have mild to moderate symptoms, the disease can cause severe medical complications and lead to death in some people.', 'Older adults or people with existing chronic medical conditions are at greater risk of becoming seriously ill with COVID-19 .', 'Complications can include:\\n\\nPneumonia in both lungs\\n\\nOrgan failure in several organs\\n\\nRespiratory failure\\n\\nHeart problems, such as heart rhythm problems and a disease of the heart muscle that makes it hard for your heart to pump blood to the body (cardiomyopathy)\\n\\nAcute kidney injury\\n\\nAdditional viral and bacterial infections\\n\\nPrevention\\n\\nAlthough there is no vaccine available to prevent COVID-19 , you can take steps to reduce your risk of infection.', 'WHO and CDC recommend following these precautions for avoiding COVID-19 :\\n\\nAvoid large events and mass gatherings.', 'Avoid close contact (within about 6 feet, or 2 meters) with anyone who is sick or has symptoms.', 'Stay home as much as possible and keep distance between yourself and others (within about 6 feet, or 2 meters) if COVID-19 is spreading in your community, especially if you have a higher risk of serious illness.', \"Keep in mind some people may have COVID-19 and spread it to others, even if they don't have symptoms or don't know they have COVID-19 .\", 'is spreading in your community, especially if you have a higher risk of serious illness.', \"Keep in mind some people may have and spread it to others, even if they don't have symptoms or don't know they have .\", 'Wash your hands often with soap and water for at least 20 seconds, or use an alcohol-based hand sanitizer that contains at least 60% alcohol.', \"Cover your face with a cloth face covering in public spaces, such as the grocery store, where it's difficult to avoid close contact with others, especially if you're in an area with ongoing community spread.\", 'Only use nonmedical cloth masks — surgical masks and N95 respirators should be reserved for health care providers.', 'Cover your mouth and nose with your elbow or a tissue when you cough or sneeze.', 'Throw away the used tissue.', 'Avoid touching your eyes, nose and mouth.', \"Avoid sharing dishes, glasses, bedding and other household items if you're sick.\", 'Clean and disinfect high-touch surfaces daily.', \"Stay home from work, school and public areas if you're sick, unless you're going to get medical care.\", \"Avoid taking public transportation if you're sick.\", 'If you have a chronic medical condition and may have a higher risk of serious illness, check with your doctor about other ways to protect yourself.', 'Travel']\n"
          ],
          "name": "stdout"
        }
      ]
    },
    {
      "cell_type": "code",
      "metadata": {
        "id": "_jK-pY6p-EoM",
        "colab_type": "code",
        "outputId": "f5970672-9412-4cbf-df11-9afaf202c798",
        "colab": {
          "base_uri": "https://localhost:8080/",
          "height": 73
        }
      },
      "source": [
        "#create dictionary to remove punctuations\n",
        "remove_punct_dict = dict((ord(punct),None) for punct in string.punctuation)\n",
        "\n",
        "#print\n",
        "print(string.punctuation)\n",
        "\n",
        "print(remove_punct_dict)"
      ],
      "execution_count": 0,
      "outputs": [
        {
          "output_type": "stream",
          "text": [
            "!\"#$%&'()*+,-./:;<=>?@[\\]^_`{|}~\n",
            "{33: None, 34: None, 35: None, 36: None, 37: None, 38: None, 39: None, 40: None, 41: None, 42: None, 43: None, 44: None, 45: None, 46: None, 47: None, 58: None, 59: None, 60: None, 61: None, 62: None, 63: None, 64: None, 91: None, 92: None, 93: None, 94: None, 95: None, 96: None, 123: None, 124: None, 125: None, 126: None}\n"
          ],
          "name": "stdout"
        }
      ]
    },
    {
      "cell_type": "code",
      "metadata": {
        "id": "1vf3sJ3R-pnM",
        "colab_type": "code",
        "outputId": "4b2b2ea7-5976-439b-c10a-8ca63ff88ad3",
        "colab": {
          "base_uri": "https://localhost:8080/",
          "height": 55
        }
      },
      "source": [
        "#create a function to return a list of limitized lowercase words after removing punctuations\n",
        "def LemNormalize(text):\n",
        "  return nltk.word_tokenize(text.lower().translate(remove_punct_dict))\n",
        "\n",
        "#print the tokenized text\n",
        "print(LemNormalize(text))"
      ],
      "execution_count": 0,
      "outputs": [
        {
          "output_type": "stream",
          "text": [
            "['overview', 'coronavirus', 'open', 'popup', 'dialog', 'box', 'close', 'coronavirus', 'coronavirus', 'coronavirus', 'is', 'a', 'family', 'of', 'viruses', 'that', 'can', 'cause', 'respiratory', 'illnesses', 'such', 'as', 'the', 'common', 'cold', 'severe', 'acute', 'respiratory', 'syndrome', 'sars', 'and', 'middle', 'east', 'respiratory', 'syndrome', 'mers', 'coronaviruses', 'are', 'a', 'family', 'of', 'viruses', 'that', 'can', 'cause', 'illnesses', 'such', 'as', 'the', 'common', 'cold', 'severe', 'acute', 'respiratory', 'syndrome', 'sars', 'and', 'middle', 'east', 'respiratory', 'syndrome', 'mers', 'in', '2019', 'a', 'new', 'coronavirus', 'was', 'identified', 'as', 'the', 'cause', 'of', 'a', 'disease', 'outbreak', 'that', 'originated', 'in', 'china', 'the', 'virus', 'is', 'now', 'known', 'as', 'the', 'severe', 'acute', 'respiratory', 'syndrome', 'coronavirus', '2', 'sarscov2', 'the', 'disease', 'it', 'causes', 'is', 'called', 'coronavirus', 'disease', '2019', 'covid19', 'in', 'march', '2020', 'the', 'world', 'health', 'organization', 'who', 'declared', 'the', 'covid19', 'outbreak', 'a', 'pandemic', 'public', 'health', 'groups', 'including', 'the', 'us', 'centers', 'for', 'disease', 'control', 'and', 'prevention', 'cdc', 'and', 'who', 'are', 'monitoring', 'the', 'pandemic', 'and', 'posting', 'updates', 'on', 'their', 'websites', 'these', 'groups', 'have', 'also', 'issued', 'recommendations', 'for', 'preventing', 'and', 'treating', 'the', 'illness', 'symptoms', 'signs', 'and', 'symptoms', 'of', 'coronavirus', 'disease', '2019', 'covid19', 'may', 'appear', 'two', 'to', '14', 'days', 'after', 'exposure', 'this', 'time', 'after', 'exposure', 'and', 'before', 'having', 'symptoms', 'is', 'called', 'the', 'incubation', 'period', 'common', 'signs', 'and', 'symptoms', 'can', 'include', 'fever', 'cough', 'shortness', 'of', 'breath', 'or', 'difficulty', 'breathing', 'other', 'symptoms', 'can', 'include', 'tiredness', 'aches', 'chills', 'sore', 'throat', 'loss', 'of', 'smell', 'loss', 'of', 'taste', 'headache', 'diarrhea', 'severe', 'vomiting', 'the', 'severity', 'of', 'covid19', 'symptoms', 'can', 'range', 'from', 'very', 'mild', 'to', 'severe', 'some', 'people', 'may', 'have', 'only', 'a', 'few', 'symptoms', 'and', 'some', 'people', 'may', 'have', 'no', 'symptoms', 'at', 'all', 'people', 'who', 'are', 'older', 'or', 'who', 'have', 'existing', 'chronic', 'medical', 'conditions', 'such', 'as', 'heart', 'disease', 'lung', 'disease', 'diabetes', 'severe', 'obesity', 'chronic', 'kidney', 'or', 'liver', 'disease', 'or', 'who', 'have', 'compromised', 'immune', 'systems', 'may', 'be', 'at', 'higher', 'risk', 'of', 'serious', 'illness', 'this', 'is', 'similar', 'to', 'what', 'is', 'seen', 'with', 'other', 'respiratory', 'illnesses', 'such', 'as', 'influenza', 'some', 'people', 'may', 'experience', 'worsened', 'symptoms', 'such', 'as', 'worsened', 'shortness', 'of', 'breath', 'and', 'pneumonia', 'about', 'a', 'week', 'after', 'symptoms', 'start', 'covid19', 'selfassessment', 'tool', 'assess', 'your', 'symptoms', 'and', 'find', 'out', 'if', 'youre', 'a', 'candidate', 'for', 'a', 'coronavirus', 'disease', '2019', 'covid19', 'test', 'when', 'to', 'see', 'a', 'doctor', 'if', 'you', 'have', 'covid19', 'symptoms', 'or', 'youve', 'been', 'in', 'contact', 'with', 'someone', 'diagnosed', 'with', 'covid19', 'contact', 'your', 'doctor', 'or', 'clinic', 'right', 'away', 'for', 'medical', 'advice', 'tell', 'your', 'health', 'care', 'team', 'about', 'your', 'symptoms', 'and', 'possible', 'exposure', 'before', 'you', 'go', 'to', 'your', 'appointment', 'if', 'you', 'have', 'emergency', 'covid19', 'signs', 'and', 'symptoms', 'seek', 'care', 'immediately', 'emergency', 'signs', 'and', 'symptoms', 'can', 'include', 'trouble', 'breathing', 'persistent', 'chest', 'pain', 'or', 'pressure', 'new', 'confusion', 'blue', 'lips', 'or', 'face', 'if', 'you', 'have', 'signs', 'or', 'symptoms', 'of', 'covid19', 'contact', 'your', 'doctor', 'or', 'clinic', 'for', 'guidance', 'let', 'your', 'doctor', 'know', 'if', 'you', 'have', 'other', 'chronic', 'medical', 'conditions', 'such', 'as', 'heart', 'disease', 'or', 'lung', 'disease', 'during', 'the', 'pandemic', 'its', 'important', 'to', 'make', 'sure', 'health', 'care', 'is', 'available', 'for', 'those', 'in', 'greatest', 'need', 'causes', 'infection', 'with', 'the', 'new', 'coronavirus', 'severe', 'acute', 'respiratory', 'syndrome', 'coronavirus', '2', 'or', 'sarscov2', 'causes', 'coronavirus', 'disease', '2019', 'covid19', 'the', 'virus', 'appears', 'to', 'spread', 'easily', 'among', 'people', 'and', 'more', 'continues', 'to', 'be', 'discovered', 'over', 'time', 'about', 'how', 'it', 'spreads', 'data', 'has', 'shown', 'that', 'it', 'spreads', 'from', 'person', 'to', 'person', 'among', 'those', 'in', 'close', 'contact', 'within', 'about', '6', 'feet', 'or', '2', 'meters', 'the', 'virus', 'spreads', 'by', 'respiratory', 'droplets', 'released', 'when', 'someone', 'with', 'the', 'virus', 'coughs', 'sneezes', 'or', 'talks', 'these', 'droplets', 'can', 'be', 'inhaled', 'or', 'land', 'in', 'the', 'mouth', 'or', 'nose', 'of', 'a', 'person', 'nearby', 'it', 'can', 'also', 'spread', 'if', 'a', 'person', 'touches', 'a', 'surface', 'with', 'the', 'virus', 'on', 'it', 'and', 'then', 'touches', 'his', 'or', 'her', 'mouth', 'nose', 'or', 'eyes', 'risk', 'factors', 'risk', 'factors', 'for', 'covid19', 'appear', 'to', 'include', 'recent', 'travel', 'from', 'or', 'residence', 'in', 'an', 'area', 'with', 'ongoing', 'community', 'spread', 'of', 'covid19', 'as', 'determined', 'by', 'cdc', 'or', 'who', 'as', 'determined', 'by', 'or', 'close', 'contact', 'with', 'someone', 'who', 'has', 'covid19', 'such', 'as', 'being', 'within', '6', 'feet', 'or', '2', 'meters', 'or', 'being', 'coughed', 'on', '—', 'which', 'can', 'occur', 'when', 'a', 'family', 'member', 'or', 'health', 'care', 'worker', 'takes', 'care', 'of', 'an', 'infected', 'person', 'complications', 'although', 'most', 'people', 'with', 'covid19', 'have', 'mild', 'to', 'moderate', 'symptoms', 'the', 'disease', 'can', 'cause', 'severe', 'medical', 'complications', 'and', 'lead', 'to', 'death', 'in', 'some', 'people', 'older', 'adults', 'or', 'people', 'with', 'existing', 'chronic', 'medical', 'conditions', 'are', 'at', 'greater', 'risk', 'of', 'becoming', 'seriously', 'ill', 'with', 'covid19', 'complications', 'can', 'include', 'pneumonia', 'in', 'both', 'lungs', 'organ', 'failure', 'in', 'several', 'organs', 'respiratory', 'failure', 'heart', 'problems', 'such', 'as', 'heart', 'rhythm', 'problems', 'and', 'a', 'disease', 'of', 'the', 'heart', 'muscle', 'that', 'makes', 'it', 'hard', 'for', 'your', 'heart', 'to', 'pump', 'blood', 'to', 'the', 'body', 'cardiomyopathy', 'acute', 'kidney', 'injury', 'additional', 'viral', 'and', 'bacterial', 'infections', 'prevention', 'although', 'there', 'is', 'no', 'vaccine', 'available', 'to', 'prevent', 'covid19', 'you', 'can', 'take', 'steps', 'to', 'reduce', 'your', 'risk', 'of', 'infection', 'who', 'and', 'cdc', 'recommend', 'following', 'these', 'precautions', 'for', 'avoiding', 'covid19', 'avoid', 'large', 'events', 'and', 'mass', 'gatherings', 'avoid', 'close', 'contact', 'within', 'about', '6', 'feet', 'or', '2', 'meters', 'with', 'anyone', 'who', 'is', 'sick', 'or', 'has', 'symptoms', 'stay', 'home', 'as', 'much', 'as', 'possible', 'and', 'keep', 'distance', 'between', 'yourself', 'and', 'others', 'within', 'about', '6', 'feet', 'or', '2', 'meters', 'if', 'covid19', 'is', 'spreading', 'in', 'your', 'community', 'especially', 'if', 'you', 'have', 'a', 'higher', 'risk', 'of', 'serious', 'illness', 'keep', 'in', 'mind', 'some', 'people', 'may', 'have', 'covid19', 'and', 'spread', 'it', 'to', 'others', 'even', 'if', 'they', 'dont', 'have', 'symptoms', 'or', 'dont', 'know', 'they', 'have', 'covid19', 'is', 'spreading', 'in', 'your', 'community', 'especially', 'if', 'you', 'have', 'a', 'higher', 'risk', 'of', 'serious', 'illness', 'keep', 'in', 'mind', 'some', 'people', 'may', 'have', 'and', 'spread', 'it', 'to', 'others', 'even', 'if', 'they', 'dont', 'have', 'symptoms', 'or', 'dont', 'know', 'they', 'have', 'wash', 'your', 'hands', 'often', 'with', 'soap', 'and', 'water', 'for', 'at', 'least', '20', 'seconds', 'or', 'use', 'an', 'alcoholbased', 'hand', 'sanitizer', 'that', 'contains', 'at', 'least', '60', 'alcohol', 'cover', 'your', 'face', 'with', 'a', 'cloth', 'face', 'covering', 'in', 'public', 'spaces', 'such', 'as', 'the', 'grocery', 'store', 'where', 'its', 'difficult', 'to', 'avoid', 'close', 'contact', 'with', 'others', 'especially', 'if', 'youre', 'in', 'an', 'area', 'with', 'ongoing', 'community', 'spread', 'only', 'use', 'nonmedical', 'cloth', 'masks', '—', 'surgical', 'masks', 'and', 'n95', 'respirators', 'should', 'be', 'reserved', 'for', 'health', 'care', 'providers', 'cover', 'your', 'mouth', 'and', 'nose', 'with', 'your', 'elbow', 'or', 'a', 'tissue', 'when', 'you', 'cough', 'or', 'sneeze', 'throw', 'away', 'the', 'used', 'tissue', 'avoid', 'touching', 'your', 'eyes', 'nose', 'and', 'mouth', 'avoid', 'sharing', 'dishes', 'glasses', 'bedding', 'and', 'other', 'household', 'items', 'if', 'youre', 'sick', 'clean', 'and', 'disinfect', 'hightouch', 'surfaces', 'daily', 'stay', 'home', 'from', 'work', 'school', 'and', 'public', 'areas', 'if', 'youre', 'sick', 'unless', 'youre', 'going', 'to', 'get', 'medical', 'care', 'avoid', 'taking', 'public', 'transportation', 'if', 'youre', 'sick', 'if', 'you', 'have', 'a', 'chronic', 'medical', 'condition', 'and', 'may', 'have', 'a', 'higher', 'risk', 'of', 'serious', 'illness', 'check', 'with', 'your', 'doctor', 'about', 'other', 'ways', 'to', 'protect', 'yourself', 'travel']\n"
          ],
          "name": "stdout"
        }
      ]
    },
    {
      "cell_type": "code",
      "metadata": {
        "id": "LkNwoQkZ_7qh",
        "colab_type": "code",
        "colab": {}
      },
      "source": [
        "#keyword maching\n",
        "#greeting inputs for users\n",
        "GREETINGS_INPUTS = [\"hi\", \"hello\",\"greetings\",\"hey\"]\n",
        "\n",
        "#greeting responses\n",
        "GREETNGS_RESPONSE = [\"hi\", \"hey there\",\"hello\"]\n",
        "\n",
        "#return a random G response\n",
        "def greeting(sentence):\n",
        "  for word in sentence.split():\n",
        "    if word.lower()in GREETINGS_INPUTS:\n",
        "      return random.choice(GREETNGS_RESPONSE)\n",
        "\n",
        "\n",
        "\n"
      ],
      "execution_count": 0,
      "outputs": []
    },
    {
      "cell_type": "code",
      "metadata": {
        "id": "hxYI-_TKDpJ-",
        "colab_type": "code",
        "colab": {}
      },
      "source": [
        "#generate the response\n",
        "def response(user_query):\n",
        "  #users query\n",
        "  #user_query = 'What are the symptoms?'\n",
        "  user_query = user_query.lower()\n",
        "\n",
        "  #print(user_query)\n",
        "\n",
        "  #set the chatbot response\n",
        "  bot_response = ''\n",
        "\n",
        "  #append the user query to the sentence list\n",
        "  sent_tokens.append(user_query)\n",
        "  #print(sent_tokens) ##print after appending the user query to the bot response\n",
        "\n",
        "  #create a TfidfVectorizer object\n",
        "\n",
        "  TfidfVec = TfidfVectorizer(tokenizer=LemNormalize, stop_words='english')\n",
        "\n",
        "  #convert text to a metrix of TF-IDF (frequency an inverse document) features\n",
        "  #TF is frequency of a term occurence in a document IDF-how rare thus TFIDF=TF x IDF\n",
        "\n",
        "  tfidf = TfidfVec.fit_transform(sent_tokens)\n",
        "\n",
        "  #print(tfidf) ##prnt the tfidf metrix\n",
        "\n",
        "  #most similar score index from the article for the user query\n",
        "\n",
        "  vals = cosine_similarity(tfidf[-1], tfidf)\n",
        "  #print(vals) #print similarity score\n",
        "\n",
        "  idx = vals.argsort()[0][-2]\n",
        "  #print(idx)\n",
        "\n",
        "  #reduce the dimensionality of vals\n",
        "\n",
        "  flat = vals.flatten()\n",
        "\n",
        "  #sort the list in ascending order\n",
        "  flat.sort()\n",
        "\n",
        "  #get the most similar score to the uers respone\n",
        "  score = flat[-2]\n",
        "  #print(score)\n",
        "\n",
        "  #if the cariable score is 0 then there is no text similar to the users query.\n",
        "  if(score == 0):\n",
        "    bot_response+\"I apologise, I do not understand\"\n",
        "  else:\n",
        "    bot_response = bot_response+sent_tokens[idx]\n",
        "\n",
        "  #print bot response\n",
        "  #print(bot_response)\n",
        "\n",
        "  #remove appended question from response\n",
        "  sent_tokens.remove(user_query)\n",
        "  \n",
        "  return bot_response\n",
        "\n"
      ],
      "execution_count": 0,
      "outputs": []
    },
    {
      "cell_type": "code",
      "metadata": {
        "id": "bfGp92XC5Vs2",
        "colab_type": "code",
        "outputId": "0bec90d7-cf09-4cc8-d927-24cf398b86c2",
        "colab": {
          "base_uri": "https://localhost:8080/",
          "height": 508
        }
      },
      "source": [
        "flag = True\n",
        "print(\"BotRona: I will answer your queries about Covid19 (Corona). If you want to exit, type 'bye'\")\n",
        "\n",
        "while(flag == True):\n",
        "  user_query = input()\n",
        "  user_query = user_query.lower()\n",
        "  if (user_query != 'bye'):\n",
        "    if(user_query == 'thanks' or user_query == 'thank you'):\n",
        "      flag=False\n",
        "      print(\"BotRona: You are welcome!\") \n",
        "    else:\n",
        "      if(greeting(user_query) != None):\n",
        "        print(\"BotRona: \"+greeting(user_query))\n",
        "      else:\n",
        "        print(\"BotRona: \"+response(user_query))\n",
        "        \n",
        "  else:\n",
        "    flag = False\n",
        "    print(\"BotRona: Hope You got the answers! Stay safe.\")\n",
        "\n"
      ],
      "execution_count": 0,
      "outputs": [
        {
          "output_type": "stream",
          "text": [
            "BotRona: I will answer your queries about Covid19 (Corona). If you want to exit, type 'bye'\n",
            "hi\n",
            "BotRona: hey there\n",
            "whats covid19\n",
            "BotRona: Keep in mind some people may have COVID-19 and spread it to others, even if they don't have symptoms or don't know they have COVID-19 .\n",
            "symptoms?\n",
            "BotRona: Some people may have only a few symptoms, and some people may have no symptoms at all.\n",
            "what are the symptoms\n",
            "BotRona: Some people may have only a few symptoms, and some people may have no symptoms at all.\n",
            "common signs\n",
            "BotRona: If you have emergency COVID-19 signs and symptoms, seek care immediately.\n",
            "other symptoms\n",
            "BotRona: Some people may have only a few symptoms, and some people may have no symptoms at all.\n",
            "when to see a doctor?\n",
            "BotRona: When to see a doctor\n",
            "\n",
            "If you have COVID-19 symptoms or you've been in contact with someone diagnosed with COVID-19 , contact your doctor or clinic right away for medical advice.\n",
            "causes?\n",
            "BotRona: Causes\n",
            "\n",
            "Infection with the new coronavirus (severe acute respiratory syndrome coronavirus 2, or SARS-CoV-2) causes coronavirus disease 2019 ( COVID-19 ).\n",
            "travel\n",
            "BotRona: Travel\n",
            "travelling is safe?\n",
            "BotRona: \n",
            "bye\n",
            "BotRona: Hope You got the answers! Stay safe.\n"
          ],
          "name": "stdout"
        }
      ]
    }
  ]
}